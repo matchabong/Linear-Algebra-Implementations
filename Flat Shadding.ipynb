{
  "cells": [
    {
      "cell_type": "markdown",
      "metadata": {
        "id": "kDACXMe7nuJo"
      },
      "source": [
        "# Linear algebra Homework assignment 3"
      ]
    },
    {
      "cell_type": "code",
      "execution_count": 66,
      "metadata": {
        "id": "upxRk8bynuJr"
      },
      "outputs": [],
      "source": [
        "import numpy as np\n",
        "import math as m\n",
        "import matplotlib.pyplot as plt\n",
        "from mpl_toolkits.mplot3d.art3d import Poly3DCollection"
      ]
    },
    {
      "cell_type": "markdown",
      "metadata": {
        "id": "3wXjU9dHnuJr"
      },
      "source": [
        "## Problem 1 - 4"
      ]
    },
    {
      "cell_type": "code",
      "execution_count": 67,
      "metadata": {
        "id": "uZnO49jjnuJs"
      },
      "outputs": [],
      "source": [
        "# [TODO]\n",
        "def compute_lookat(azim: float, elev: float):\n",
        "    \"\"\"\n",
        "        Compute the look at vector. (Definition in Figure 3)\n",
        "        azim: float, degree in [-180, 180],\n",
        "        elev: float, degree in [-180, 180]\n",
        "    \"\"\"\n",
        "    # For the definition of azim and elev, check\n",
        "    # https://matplotlib.org/stable/api/toolkits/mplot3d/view_angles.html\n",
        "    azim_rad= np.radians(azim)\n",
        "    elev_rad= np.radians(elev)\n",
        "    a = np.cos(np.radians(90-elev))* np.sin(azim_rad)\n",
        "    b = np.cos(np.radians(90-elev))* np.cos(azim_rad)\n",
        "    c = np.sin(np.radians(90-elev))\n",
        "    lookat = np.array([a,b,c])\n",
        "    magnitude=np.linalg.norm(lookat)\n",
        "    if magnitude != 0:\n",
        "      lookat=lookat/magnitude\n",
        "    return lookat"
      ]
    },
    {
      "cell_type": "code",
      "execution_count": 68,
      "metadata": {
        "id": "_kvHRHu-nuJs"
      },
      "outputs": [],
      "source": [
        "# [TODO]\n",
        "def compute_normal(P1: tuple, P2: tuple, P3: tuple):\n",
        "    \"\"\"\n",
        "        Compute the normal vector, given P1, P2, P3 in counter-clockwise order.\n",
        "    \"\"\"\n",
        "    P1_list= np.array(P1)\n",
        "    P2_list= np.array(P2)\n",
        "    P3_list= np.array(P3)\n",
        "    # Compute vectors representing edges of the triangle\n",
        "    v1 = P2-P1 # distance p2 to p1\n",
        "    v2 = P3-P1 #distance p3 to p1\n",
        "\n",
        "    # Compute the cross product of the edges to get the normal vector\n",
        "    normal = np.cross(v1,v2)\n",
        "\n",
        "    return normal"
      ]
    },
    {
      "cell_type": "code",
      "execution_count": 69,
      "metadata": {
        "id": "18gbFGceowOH"
      },
      "outputs": [],
      "source": [
        "# [TODO]\n",
        "def visible(face_normal: np.ndarray, lookat: np.ndarray):\n",
        "    \"\"\"\n",
        "        Given a normal vector of a face, determine if the face (outward-facing side) is visible\n",
        "    \"\"\"\n",
        "    lookat= lookat/np.linalg.norm(lookat)\n",
        "    face_normal= face_normal/ np.linalg.norm(face_normal)  #normalize\n",
        "    dotProduct= np.dot(face_normal, lookat) #dot operation\n",
        "    # use the normal vector of the triangle and the lookat direction\n",
        "    # to determine the visibility.\n",
        "\n",
        "    return dotProduct > 0"
      ]
    },
    {
      "cell_type": "code",
      "execution_count": 70,
      "metadata": {
        "id": "oUmo5WLzoz5_"
      },
      "outputs": [],
      "source": [
        "# [TODO] compute cos(β) in Figure3\n",
        "def compute_intensity(face_normal: np.ndarray, lookat: np.ndarray, lightsource: np.ndarray):\n",
        "    \"\"\"\n",
        "        Given normal vector of a face (face_normal), viewing vector (lookat) and lightsource (lightsource),\n",
        "        compute the specular intensity.\n",
        "    \"\"\"\n",
        "    face_normal = face_normal / np.linalg.norm(face_normal)\n",
        "    lightsource = lightsource / np.linalg.norm(lightsource)\n",
        "    lookat = lookat / np.linalg.norm(lookat)\n",
        "    dot_product_ln = np.dot(face_normal, lightsource)\n",
        "    reflect = 2 * dot_product_ln * face_normal - lightsource\n",
        "    intensity = np.dot(reflect, lookat)\n",
        "    return intensity"
      ]
    },
    {
      "cell_type": "markdown",
      "metadata": {
        "id": "CZExOaUJnuJt"
      },
      "source": [
        "## Problem 5\n",
        "Perform at least two tasks from the following list, and describe what you have done\n",
        "\n",
        "- Change a model (please choose a convex object).\n",
        "- Give each face of the model a different color.\n",
        "- Change the movemnt of the light source.\n",
        "- Other interesting changes\n",
        "\n",
        "Description:\n",
        "\n",
        "I modified the model so that each face of the model has a different color. I did this by by using a colormap (hsv). This ensures each side will have a different color.\n",
        "\n",
        "I also changed the movement of the light source by rotating the light source around the object in each frame. The new position of the light source is calculated based on trigonometric functions (cos and sin) and scaled by light_radius. The effect of the moving light source is reflected in the shading of the object faces.\n",
        "\n",
        "I also changed the object to a tetrahedron which has 4 vertices, 6 edges, and 4 faces. In the png file only 3 faces are seen because it depends on the perspective view.\n",
        "\n",
        "I decided to put all the function into the main function because in my opinion, it is easier to navigate and change the code when i can see everthing in the same place.\n",
        "\n",
        "There is 2 functions because one of them is used to generate the object before the change in the light source movement while the other is used to generate the object after the change."
      ]
    },
    {
      "cell_type": "code",
      "execution_count": 71,
      "metadata": {
        "id": "i5ikuJn1GEAF"
      },
      "outputs": [],
      "source": [
        "def read_obj_file(file_path):\n",
        "    vertices = []\n",
        "    faces = []\n",
        "\n",
        "    with open(file_path, 'r') as file:\n",
        "        for line in file:\n",
        "            if line.startswith('v '):\n",
        "                vertex = list(map(float, line.strip().split()[1:]))\n",
        "                vertices.append(vertex)\n",
        "            elif line.startswith('f '):\n",
        "                face = [int(index.split('/')[0])-1 for index in line.strip().split()[1:]]\n",
        "                faces.append(face)\n",
        "\n",
        "    return np.array(vertices), np.array(faces)"
      ]
    },
    {
      "cell_type": "code",
      "execution_count": 79,
      "metadata": {
        "id": "uVmsPaS0rLo1",
        "colab": {
          "base_uri": "https://localhost:8080/"
        },
        "outputId": "5ba26d27-e390-4281-e6c9-f42018a8b14f"
      },
      "outputs": [
        {
          "output_type": "stream",
          "name": "stderr",
          "text": [
            "<ipython-input-79-b392098c6194>:35: MatplotlibDeprecationWarning: The get_cmap function was deprecated in Matplotlib 3.7 and will be removed two minor releases later. Use ``matplotlib.colormaps[name]`` or ``matplotlib.colormaps.get_cmap(obj)`` instead.\n",
            "  colormap = cm.get_cmap('hsv', num_faces)\n"
          ]
        }
      ],
      "source": [
        "# The code below is just some hint for you. Feel free to modify anything if you want!\n",
        "#The Code Below will output the image of the convex object before changing the movement of the light source\n",
        "import os\n",
        "import matplotlib.cm as cm\n",
        "# Read .obj file\n",
        "obj_file_path = '/tetrahedron.obj'\n",
        "#obj_file_path = '/icosahedron_modified.obj'\n",
        "vertices, faces = read_obj_file(obj_file_path)\n",
        "\n",
        "center = np.mean(vertices, axis=0)\n",
        "vertices = vertices - center\n",
        "\n",
        "max_x = np.max(vertices[:, 0])\n",
        "min_x = np.min(vertices[:, 0])\n",
        "max_y = np.max(vertices[:, 1])\n",
        "min_y = np.min(vertices[:, 1])\n",
        "max_z = np.max(vertices[:, 2])\n",
        "min_z = np.min(vertices[:, 2])\n",
        "\n",
        "\n",
        "# Plot vertices\n",
        "fig = plt.figure()\n",
        "ax = plt.axes(projection='3d')\n",
        "ax.set_axis_off()\n",
        "\n",
        "ax.set_xlim(min_x, max_x), ax.set_ylim(min_y, max_y), ax.set_zlim(min_z, max_z)\n",
        "ax.view_init(azim=60, elev=30)\n",
        "\n",
        "lookat = compute_lookat(ax.azim, ax.elev)\n",
        "basecolor = np.array([0, 1, 0.7])\n",
        "phi = 2 * np.pi\n",
        "lightsource = np.array([np.cos(phi), np.sin(phi), np.sin(phi)])\n",
        "lightsource = lightsource / np.linalg.norm(lightsource)\n",
        "num_faces = len(faces)\n",
        "colormap = cm.get_cmap('hsv', num_faces)\n",
        "colors = [colormap(i / num_faces) for i in range(num_faces)]\n",
        "# [TODO] Plot faces\n",
        "######## write you code below\n",
        "for i, face in enumerate(faces):\n",
        "        poly3d = [[vertices[vertice_index] for vertice_index in face]]\n",
        "        ax.add_collection3d(Poly3DCollection(poly3d, facecolors=colors[i], linewidths=1, edgecolors='blue', alpha=0.5))\n",
        "\n",
        "#plt.show()\n",
        "studentID = '112006221'\n",
        "plt.savefig(f'HW3_{studentID}.png') # replace with your own studentID\n",
        "plt.close(fig)\n"
      ]
    },
    {
      "cell_type": "code",
      "source": [
        "#The Code Below will output the image of the convex object after changing the movement of the light source\n",
        "import os\n",
        "import matplotlib.cm as cm\n",
        "# Read .obj file\n",
        "obj_file_path = '/tetrahedron.obj'\n",
        "#obj_file_path = '/icosahedron_modified.obj'\n",
        "vertices, faces = read_obj_file(obj_file_path)\n",
        "\n",
        "center = np.mean(vertices, axis=0)\n",
        "vertices = vertices - center\n",
        "\n",
        "max_x = np.max(vertices[:, 0])\n",
        "min_x = np.min(vertices[:, 0])\n",
        "max_y = np.max(vertices[:, 1])\n",
        "min_y = np.min(vertices[:, 1])\n",
        "max_z = np.max(vertices[:, 2])\n",
        "min_z = np.min(vertices[:, 2])\n",
        "\n",
        "# Plot vertices\n",
        "fig = plt.figure()\n",
        "ax = plt.axes(projection='3d')\n",
        "ax.set_axis_off()\n",
        "ax.set_xlim(min_x, max_x), ax.set_ylim(min_y, max_y), ax.set_zlim(min_z, max_z)\n",
        "ax.view_init(azim=60, elev=30)\n",
        "\n",
        "ambient_intensity =  3\n",
        "light_scale = 6\n",
        "lookat = compute_lookat(ax.azim, ax.elev)\n",
        "basecolor = np.array([0, 1, 0.7])\n",
        "num_frames = 36\n",
        "light_radius = 4\n",
        "light_elevation = 1\n",
        "phi = 2 * np.pi\n",
        "lightsource = np.array([np.cos(phi), np.sin(phi), np.sin(phi)])\n",
        "lightsource = lightsource / np.linalg.norm(lightsource)\n",
        "num_faces = len(faces)\n",
        "colormap = cm.get_cmap('hsv', num_faces)\n",
        "colors = [colormap(i / num_faces) for i in range(num_faces)]\n",
        "for frame in range(num_frames):\n",
        "    phi = 2 * np.pi * frame / num_frames\n",
        "    lightsource = np.array([light_radius * np.cos(phi), light_radius * np.sin(phi), light_elevation])\n",
        "\n",
        "    ax.cla()\n",
        "    ax.set_axis_off()\n",
        "    ax.set_xlim(min_x, max_x)\n",
        "    ax.set_ylim(min_y, max_y)\n",
        "    ax.set_zlim(min_z, max_z)\n",
        "# [TODO] Plot faces\n",
        "######## write you code below\n",
        "    for i, face in enumerate(faces):\n",
        "      poly3d = [[vertices[vertice_index] for vertice_index in face]]\n",
        "      v0 = vertices[face[0]]\n",
        "      v1 = vertices[face[1]]\n",
        "      v2 = vertices[face[2]]\n",
        "\n",
        "      normal = np.cross(v1 - v0, v2 - v0)\n",
        "      normal = normal / np.linalg.norm(normal)\n",
        "      light_direction = lightsource - np.mean(poly3d[0], axis=0)\n",
        "      light_direction = light_direction / np.linalg.norm(light_direction)\n",
        "\n",
        "      intensity = np.dot(normal, light_direction)\n",
        "      intensity = np.clip(intensity * light_scale + ambient_intensity, 0, 1)\n",
        "\n",
        "      face_color = colormap(i / num_faces)[:3]\n",
        "      shaded_color = intensity * np.array(face_color)\n",
        "      ax.add_collection3d(Poly3DCollection(poly3d, facecolors=shaded_color, linewidths=1, edgecolors='blue', alpha=0.5))\n",
        "#plt.show()\n",
        "studentID = '112006221'\n",
        "plt.savefig(f'HW3_{studentID}.png') # replace with your own studentID\n",
        "plt.close(fig)\n"
      ],
      "metadata": {
        "colab": {
          "base_uri": "https://localhost:8080/"
        },
        "id": "mBEtl89ghhyT",
        "outputId": "2ec56ec5-df25-4c78-bc52-0cdd61124261"
      },
      "execution_count": 81,
      "outputs": [
        {
          "output_type": "stream",
          "name": "stderr",
          "text": [
            "<ipython-input-81-2f08d493ce35>:37: MatplotlibDeprecationWarning: The get_cmap function was deprecated in Matplotlib 3.7 and will be removed two minor releases later. Use ``matplotlib.colormaps[name]`` or ``matplotlib.colormaps.get_cmap(obj)`` instead.\n",
            "  colormap = cm.get_cmap('hsv', num_faces)\n"
          ]
        }
      ]
    },
    {
      "cell_type": "markdown",
      "metadata": {
        "id": "XoU755G_rL_e"
      },
      "source": [
        "## Problem 6\n",
        "There is a type of terms, called **vn** (vertex normal), in the obj file.\n",
        "However, it record vn as each\n",
        "\n",
        "Please look up the definition of vertex normal and implement it accordingly. The OBJ\n",
        "file with the corrected vertex normals is icosahedron modified.obj."
      ]
    },
    {
      "cell_type": "code",
      "execution_count": 74,
      "metadata": {
        "id": "YLLNgGj0rNY4"
      },
      "outputs": [],
      "source": [
        "from collections import defaultdict\n",
        "\n",
        "def load_obj(file_path):\n",
        "    vertices = []\n",
        "    faces = []\n",
        "    vertex_normals = []\n",
        "\n",
        "    with open(file_path, 'r') as f:\n",
        "        for line in f:\n",
        "            line = line.strip()\n",
        "            if not line or line.startswith('#'):\n",
        "                continue\n",
        "\n",
        "            values = line.split()\n",
        "            if not values:\n",
        "                continue\n",
        "\n",
        "            if values[0] == 'v':\n",
        "                vertices.append([float(x) for x in values[1:4]])\n",
        "            elif values[0] == 'vn':\n",
        "                vertex_normals.append([float(x) for x in values[1:4]])\n",
        "            elif values[0] == 'f':\n",
        "                vertex_indices = []\n",
        "                normal_indices = []\n",
        "\n",
        "                for vertex in values[1:]:\n",
        "                    # deal with v//vn\n",
        "                    if '//' in vertex:\n",
        "                        v_idx, _, n_idx = vertex.split('/')\n",
        "                        vertex_indices.append(int(v_idx) - 1)\n",
        "                        normal_indices.append(int(n_idx) - 1)\n",
        "                    # deal with v\n",
        "                    else:\n",
        "                        vertex_indices.append(int(vertex) - 1)\n",
        "\n",
        "                faces.append(vertex_indices)\n",
        "\n",
        "    return np.array(vertices), np.array(faces), np.array(vertex_normals)"
      ]
    },
    {
      "cell_type": "code",
      "execution_count": 75,
      "metadata": {
        "id": "nXZ8IEIQGEAG"
      },
      "outputs": [],
      "source": [
        "# [TODO]\n",
        "def compute_vertex_normals(vertices, faces):\n",
        "\n",
        "    vertex_normals = np.zeros_like(vertices)\n",
        "    ######## write you code below\n",
        "    for face in faces:\n",
        "        v1_idx, v2_idx, v3_idx = face\n",
        "        v1, v2, v3 = vertices[v1_idx], vertices[v2_idx], vertices[v3_idx]\n",
        "        edge1 = v2 - v1\n",
        "        edge2 = v3 - v1\n",
        "\n",
        "        face_normal = np.cross(edge1, edge2)\n",
        "        face_normal = face_normal / np.linalg.norm(face_normal)\n",
        "\n",
        "        vertex_normals[v1_idx] += face_normal\n",
        "        vertex_normals[v2_idx] += face_normal\n",
        "        vertex_normals[v3_idx] += face_normal\n",
        "    for i in range(len(vertices)):\n",
        "        if np.linalg.norm(vertex_normals[i]) > 0:\n",
        "            vertex_normals[i] /= np.linalg.norm(vertex_normals[i])\n",
        "    #########\n",
        "\n",
        "    return vertex_normals"
      ]
    },
    {
      "cell_type": "code",
      "execution_count": 76,
      "metadata": {
        "id": "3AzxyStmGEAG",
        "colab": {
          "base_uri": "https://localhost:8080/"
        },
        "outputId": "a4a6b5f8-bfa1-4d9e-a2af-866ea3422c30"
      },
      "outputs": [
        {
          "output_type": "stream",
          "name": "stdout",
          "text": [
            "PASS\n"
          ]
        }
      ],
      "source": [
        "obj_path = \"/icosahedron_modified.obj\"\n",
        "vertices, faces, vn = load_obj(obj_path)\n",
        "vertex_normals = compute_vertex_normals(vertices, faces)\n",
        "\n",
        "#print(\"vertex normal：\")\n",
        "#for i, normal in enumerate(vertex_normals):\n",
        "     #print(f\"v{i+1:02d} normal: [{normal[0]:.6f}, {normal[1]:.6f}, {normal[2]:.6f}]\")\n",
        "if (np.allclose(vertex_normals, vn)):\n",
        "    print(\"PASS\")\n",
        "else :\n",
        "    print(\"ERROR\")"
      ]
    }
  ],
  "metadata": {
    "colab": {
      "provenance": []
    },
    "kernelspec": {
      "display_name": "Python 3",
      "language": "python",
      "name": "python3"
    },
    "language_info": {
      "codemirror_mode": {
        "name": "ipython",
        "version": 3
      },
      "file_extension": ".py",
      "mimetype": "text/x-python",
      "name": "python",
      "nbconvert_exporter": "python",
      "pygments_lexer": "ipython3",
      "version": "3.8.6"
    }
  },
  "nbformat": 4,
  "nbformat_minor": 0
}